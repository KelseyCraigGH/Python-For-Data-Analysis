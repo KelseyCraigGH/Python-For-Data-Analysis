{
 "cells": [
  {
   "cell_type": "markdown",
   "id": "d263fc10",
   "metadata": {},
   "source": [
    "<html>\n",
    "<body>\n",
    "<h1 style=\"background-color: #022851;\"><center>\n",
    "    <br><font size=\"+3.5\">\n",
    "    <font color=#FFBF00><b> ⚡ Household Electricity Consumption ⚡ </b></font>\n",
    "   </font>\n",
    "    <br><font size=\"+1\">\n",
    "    <font color=#FFBF00> Objective: Determine the different factors influencing urban and rural household electricity consumption </font>\n",
    "   </font> \n",
    "    <br><font size=\"+1\">\n",
    "    <font color=#FFBF00>Group: Electricity</font>\n",
    "   </font> \n",
    "    <br><font size=\"+1\">\n",
    "    <font color=#FFBF00>September 8, 2024</font>\n",
    "   </font>\n",
    "    </center>\n",
    "</h1>\n",
    "</body>\n",
    "</html>"
   ]
  },
  {
   "cell_type": "markdown",
   "id": "73624595",
   "metadata": {},
   "source": [
    "<html>\n",
    "<h2 style=\"background-color: #022851;\">\n",
    "<font size=\"+2\"><br>\n",
    "    <font color=#FFBF00><b>&nbsp;   &nbsp; Data Source</b></font>\n",
    "    </font>  <br>\n",
    "</h2>\n",
    "</html>"
   ]
  },
  {
   "cell_type": "markdown",
   "id": "282efeb9",
   "metadata": {},
   "source": [
    "<strong>Data source</strong>: https://www.kaggle.com/datasets/gireeshs/household-monthly-electricity-bill\n",
    "\n",
    "The \"Household monthly electricity bill\" dataset available from www.kaggle.com contains mockup practice data for monthly utility bills of households in India. The dataset includes information such as the number of people in the home, number of children, the home size, whether the home is urban or rural, and the monthly bill amount for the household.\n",
    "\n",
    "The dataset includes the following variables:\n",
    "\n",
    "* <strong>num_rooms</strong>: Number of room in the house\n",
    "* <strong>num_people</strong>: Number of people in the house\n",
    "* <strong>housearea</strong>: Area of the house\n",
    "* <strong>is_ac</strong>: Whether Air Conditioning is present in the house\n",
    "* <strong>is_tv</strong>: Whether a TV is present in the house\n",
    "* <strong>is_flat</strong>: If the house is an apartment (flat)\n",
    "* <strong>ave_monthly_income</strong>: Average monthly income of the household\n",
    "* <strong>num_children</strong>: Number of children in the house\n",
    "* <strong>is_urban</strong>: Whether the house is located in an urban area\n",
    "* <strong>amount_paid</strong>: Amount paid as the monthly bill"
   ]
  },
  {
   "cell_type": "markdown",
   "id": "11f9105f",
   "metadata": {},
   "source": [
    "<html>\n",
    "<h2 style=\"background-color: #022851;\">\n",
    "<font size=\"+2\"><br>\n",
    "    <font color=#FFBF00><b>&nbsp;   &nbsp; Introduction & Hypothesis</b></font>\n",
    "    </font>  <br>\n",
    "</h2>\n",
    "</html>"
   ]
  },
  {
   "cell_type": "markdown",
   "id": "ab93d235",
   "metadata": {},
   "source": [
    "<strong>Household Energy Consumption Background</strong>\n",
    "\n",
    "It is well-known that a common household energy cost burden is related to higher energy consumption and higher monthly utility bills. Household energy use is influenced by a combination of factors, including home efficiency, variation in home appliance technologies, and lifestyle choices. Modern conveniences with an increasing reliance on electronic devices contribute significantly to energy use. Heating, Ventilation, and Air Conditioning (HVAC) is often a major contributor to household energy consumption. Less energy efficient appliances and older or poorly insulated homes tend to lose heat more rapidly, necessitating more energy for heating and cooling. Lifestyle habits, such as frequent use of high-energy appliances and inconsistent maintenance, can further lead to higher energy costs.\n",
    "\n",
    "<strong>Major Factors Influencing Household Energy Consumption</strong>\n",
    "\n",
    "Household size, both in house footprint area, and number of inhabitants, can be strong indicators of household energy consumption. In homes with air conditioning, larger household footprint areas require more energy to keep a greater volume of air cool during higher outside temperatures. In addition, as the number of people living in a shared home increase, the time that household appliances are used and the number of used electronic devices also increases. \n",
    "\n",
    "<strong>Objective</strong>\n",
    "\n",
    "Reducing household electricity consumption can reduce the carbon footrint of a home and substantially lower monthly household energy costs, so understanding the factors that are most strongly associated with lower electricity use can have a positive impact on both people and the planet. We aim to identify the factors that are most likely to help lower eletricity consumption in urban homes and in rural homes.\n",
    "\n",
    "<strong>Hypothesis: The factors which impact the bill in rural areas are different from the factors which impact a bill in urban areas.</strong>\n",
    "\n",
    "This data analysis will explore the hypothesis that the factors that are most strongly associated with higher monthly bill amounts in urban homes will be different than for rural homes."
   ]
  },
  {
   "cell_type": "markdown",
   "id": "3e9bae6d",
   "metadata": {},
   "source": [
    "<html>\n",
    "<h2 style=\"background-color: #022851;\">\n",
    "<font size=\"+2\"><br>\n",
    "    <font color=#FFBF00><b>&nbsp;   &nbsp; Data Ingestion</b></font>\n",
    "    </font>  <br>\n",
    "</h2>\n",
    "</html>"
   ]
  },
  {
   "cell_type": "code",
   "execution_count": 8,
   "id": "a97583a2",
   "metadata": {},
   "outputs": [],
   "source": [
    "#If you will be using os or matplotlib for the first time on this machine, pip install os and/or matplotlib\n",
    "\n",
    "#pip3 install matplotlib"
   ]
  },
  {
   "cell_type": "code",
   "execution_count": 10,
   "id": "4ecfbc83",
   "metadata": {},
   "outputs": [],
   "source": [
    "## Imports \n",
    "import os \n",
    "import pandas as pd\n",
    "import numpy as np\n",
    "import matplotlib.pyplot as plt"
   ]
  },
  {
   "cell_type": "code",
   "execution_count": 12,
   "id": "78f69dca",
   "metadata": {},
   "outputs": [],
   "source": [
    "## Read the Data\n",
    "\n",
    "directory = os.getcwd()\n",
    "\n",
    "file_path = os.path.join(directory, 'Household energy bill data.csv')\n",
    "    \n",
    "electricity = pd.read_csv(file_path)"
   ]
  },
  {
   "cell_type": "markdown",
   "id": "ccdebf09",
   "metadata": {},
   "source": [
    "<html>\n",
    "<h2 style=\"background-color: #022851;\">\n",
    "<font size=\"+2\"><br>\n",
    "    <font color=#FFBF00><b>&nbsp;   &nbsp; Data Cleaning</b></font>\n",
    "    </font>  <br>\n",
    "</h2>\n",
    "</html>"
   ]
  },
  {
   "cell_type": "markdown",
   "id": "8487d345",
   "metadata": {},
   "source": []
  },
  {
   "cell_type": "code",
   "execution_count": null,
   "id": "691f4709",
   "metadata": {},
   "outputs": [],
   "source": []
  },
  {
   "cell_type": "markdown",
   "id": "8c9f94ef",
   "metadata": {},
   "source": [
    "<html>\n",
    "<h2 style=\"background-color: #022851;\">\n",
    "<font size=\"+2\"><br>\n",
    "    <font color=#FFBF00><b>&nbsp;   &nbsp; Exploratory Data Analysis </b></font>\n",
    "    </font>  <br>\n",
    "</h2>\n",
    "</html>"
   ]
  },
  {
   "cell_type": "markdown",
   "id": "83d37509",
   "metadata": {},
   "source": []
  },
  {
   "cell_type": "code",
   "execution_count": null,
   "id": "882c8f26",
   "metadata": {},
   "outputs": [],
   "source": []
  },
  {
   "cell_type": "markdown",
   "id": "9f6ed24d",
   "metadata": {},
   "source": [
    "<html>\n",
    "<h2 style=\"background-color: #022851;\">\n",
    "<font size=\"+2\"><br>\n",
    "    <font color=#FFBF00><b>&nbsp;   &nbsp; Data Modeling </b></font>\n",
    "    </font>  <br>\n",
    "</h2>\n",
    "</html>"
   ]
  },
  {
   "cell_type": "markdown",
   "id": "4eb55d1d",
   "metadata": {},
   "source": []
  },
  {
   "cell_type": "code",
   "execution_count": null,
   "id": "e7e9fcf4",
   "metadata": {},
   "outputs": [],
   "source": []
  },
  {
   "cell_type": "markdown",
   "id": "fe20b15e",
   "metadata": {},
   "source": [
    "<html>\n",
    "<h2 style=\"background-color: #022851;\">\n",
    "<font size=\"+2\"><br>\n",
    "    <font color=#FFBF00><b>&nbsp;   &nbsp; Data Visualization </b></font>\n",
    "    </font>  <br>\n",
    "</h2>\n",
    "</html>"
   ]
  },
  {
   "cell_type": "markdown",
   "id": "d33030ac",
   "metadata": {},
   "source": []
  },
  {
   "cell_type": "code",
   "execution_count": null,
   "id": "bd246420",
   "metadata": {},
   "outputs": [],
   "source": []
  },
  {
   "cell_type": "markdown",
   "id": "3f3684c7",
   "metadata": {},
   "source": [
    "<html>\n",
    "<h2 style=\"background-color: #022851;\">\n",
    "<font size=\"+2\"><br>\n",
    "    <font color=#FFBF00><b>&nbsp;   &nbsp; Results & Recommendations </b></font>\n",
    "    </font>  <br>\n",
    "</h2>\n",
    "</html>"
   ]
  },
  {
   "cell_type": "markdown",
   "id": "9565df9f",
   "metadata": {},
   "source": []
  },
  {
   "cell_type": "code",
   "execution_count": null,
   "id": "2a2333e8",
   "metadata": {},
   "outputs": [],
   "source": []
  }
 ],
 "metadata": {
  "kernelspec": {
   "display_name": "Python 3 (ipykernel)",
   "language": "python",
   "name": "python3"
  },
  "language_info": {
   "codemirror_mode": {
    "name": "ipython",
    "version": 3
   },
   "file_extension": ".py",
   "mimetype": "text/x-python",
   "name": "python",
   "nbconvert_exporter": "python",
   "pygments_lexer": "ipython3",
   "version": "3.10.9"
  }
 },
 "nbformat": 4,
 "nbformat_minor": 5
}
